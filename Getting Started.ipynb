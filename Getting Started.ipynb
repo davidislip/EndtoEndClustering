{
 "cells": [
  {
   "cell_type": "markdown",
   "metadata": {},
   "source": [
    "# Clustering Project \n",
    "\n",
    "Use end to end task based learning to solve a clustering problem in the best way \n",
    "\n",
    "* generate data \n",
    "* solve the problem and generate paths (CVXPY)\n",
    "* wrap as a layer in pytorch and optimize hyperparameters "
   ]
  },
  {
   "cell_type": "code",
   "execution_count": 1,
   "metadata": {},
   "outputs": [],
   "source": [
    "import cvxpy as cp\n",
    "import matplotlib.pyplot as plt\n",
    "import numpy as np\n",
    "import torch\n",
    "from cvxpylayers.torch import CvxpyLayer\n",
    "torch.set_default_dtype(torch.double)\n",
    "np.set_printoptions(precision=3, suppress=True)\n",
    "from sklearn.datasets import make_blobs\n",
    "from sklearn.model_selection import train_test_split\n",
    "from numpy.random import default_rng\n",
    "from scipy.spatial import distance_matrix\n",
    "\n",
    "rng = default_rng()"
   ]
  },
  {
   "cell_type": "code",
   "execution_count": 2,
   "metadata": {},
   "outputs": [
    {
     "name": "stdout",
     "output_type": "stream",
     "text": [
      "[0.33, 0.33, 0.34]\n"
     ]
    }
   ],
   "source": [
    "torch.manual_seed(0)\n",
    "np.random.seed(0)\n",
    "\n",
    "N = 30\n",
    "\n",
    "p = 0.008\n",
    "std = 0.7\n",
    "\n",
    "outlier = 5\n",
    "means = np.array([[2, 2], [-2, -2], [5, -1]])\n",
    "(K, n) = means.shape\n",
    "\n",
    "probs = rng.random(K)\n",
    "probs = probs/probs.sum()\n",
    "probs = [0.33, 0.33, 0.34]\n",
    "print(probs)\n",
    "\n",
    "groups = rng.choice(np.arange(0, K), size = N, p=probs)\n",
    "\n",
    "means = np.array([[2, 2], [-2, -2], [5, -1]])\n",
    "K = len(means)\n",
    "Xtrain = []\n",
    "Xtest = []\n",
    "for pt in range(len(groups)):\n",
    "    dist_type = groups[pt]\n",
    "    Xtrain.append(means[dist_type] + std*rng.normal(size = n))\n",
    "    Xtest.append(means[dist_type] + std*rng.normal(size = n))\n",
    "\n",
    "Xtrain = np.array(Xtrain)\n",
    "Xtest = np.array(Xtest)"
   ]
  },
  {
   "cell_type": "code",
   "execution_count": 4,
   "metadata": {},
   "outputs": [
    {
     "data": {
      "text/plain": [
       "[<matplotlib.lines.Line2D at 0x1d4297bd4f0>]"
      ]
     },
     "execution_count": 4,
     "metadata": {},
     "output_type": "execute_result"
    },
    {
     "data": {
      "image/png": "[encoded data removed]",
      "text/plain": [
       "<Figure size 432x288 with 1 Axes>"
      ]
     },
     "metadata": {
      "needs_background": "light"
     },
     "output_type": "display_data"
    }
   ],
   "source": [
    "plt.plot(Xtrain[:,0], Xtrain[:,1], '.')"
   ]
  },
  {
   "cell_type": "code",
   "execution_count": 5,
   "metadata": {},
   "outputs": [],
   "source": [
    "Xtrain, Xtest = map(torch.from_numpy, [Xtrain, Xtest])\n",
    "Xtrain.requires_grad_(True)\n",
    "m = Xtrain.shape[0]"
   ]
  },
  {
   "cell_type": "code",
   "execution_count": 6,
   "metadata": {},
   "outputs": [
    {
     "data": {
      "image/png": "[encoded data removed]",
      "text/plain": [
       "<Figure size 432x288 with 1 Axes>"
      ]
     },
     "metadata": {
      "needs_background": "light"
     },
     "output_type": "display_data"
    }
   ],
   "source": [
    "plt.plot(Xtrain[:,0].detach().numpy(), Xtrain[:,1].detach().numpy(), '*');\n",
    "plt.plot(Xtest[:,0].detach().numpy(), Xtest[:,1].detach().numpy(), '*');"
   ]
  },
  {
   "cell_type": "markdown",
   "metadata": {},
   "source": [
    "Implementing the following \n",
    "$$\n",
    "\\min_{\\alpha \\in \\mathbb{R}^{m \\times n}} \\lambda ||\\alpha - X_{train}|| +  \\sum_{i \\leq j} w_{ij}(\\gamma) \\ ||\\alpha_i - \\alpha_j||_q\n",
    "$$\n",
    "\n",
    "which becomes $n$ separate optimizations in the case of l1 regularization\n",
    "\n",
    "$$\n",
    " \\sum_{k = 1}^n \\min_{\\alpha^{(k)} \\in \\mathbb{R}^{m}} \\lambda ||\\alpha^{(k)} - X_{train}^{(k)}|| + \\sum_{i \\leq j} w_{ij}(\\gamma) \\ | \\alpha_i^{(k)} - \\alpha_j^{(k)}|\n",
    "$$\n",
    "\n",
    "$$\n",
    "w_{ij} = \\text{exp}(-\\gamma ||X_i - X_j||)\n",
    "$$"
   ]
  },
  {
   "cell_type": "code",
   "execution_count": 7,
   "metadata": {},
   "outputs": [],
   "source": [
    "\n",
    "# assignment = {}\n",
    "# for i in range(m):\n",
    "#     for j in range(m):\n",
    "#         if i < j:\n",
    "#             norm = np.linalg.norm(Xtrain.detach().numpy()[i,:] - Xtrain.detach().numpy()[j,:], ord = 1)\n",
    "#             assignment[(i,j)] = norm \n",
    "        \n",
    "# # wij.value = assi\n",
    "\n",
    "# a = cp.Variable((m,n))\n",
    "# lamb = cp.Parameter(nonneg=True)\n",
    "# gamma = 0.8\n",
    "# #norm points \n",
    "# norm_points = np.quantile(list(assignment.values()), [0.33, 0.66, 1])+10**(-6)\n",
    "# #calculate average norm value \n",
    "# norm_average = norm_points - np.diff(np.append(np.array([0]), norm_points))/2\n",
    "\n",
    "# ws = cp.Parameter(len(norm_points), nonneg = True)\n",
    "\n",
    "# ws.value = np.exp((-1)*gamma*norm_average)\n",
    "\n",
    "# error = cp.norm(a - Xtrain.detach().numpy(), \"fro\")\n",
    "# regularization =  0 #cp.norm(cp.hstack([a[i,:] - a[j,:]  for i in range(m) for j in range(m) if i < j]),1)\n",
    "\n",
    "# for i in range(m):\n",
    "#     for j in range(m):\n",
    "#         if i < j:\n",
    "#             norm = np.linalg.norm(Xtrain.detach().numpy()[i,:] - Xtrain.detach().numpy()[j,:], ord = 1)\n",
    "#             index = sum(norm_points < norm)\n",
    "#             #print(index)\n",
    "#             regularization += ws[index]*cp.norm(a[i,:] - a[j,:], 1)\n",
    "#             #np.exp((-1)*gamma*norm\n",
    "# obj = cp.Minimize(lamb*error + regularization)\n",
    "# prob = cp.Problem(obj)"
   ]
  },
  {
   "cell_type": "code",
   "execution_count": null,
   "metadata": {},
   "outputs": [],
   "source": []
  },
  {
   "cell_type": "code",
   "execution_count": 7,
   "metadata": {},
   "outputs": [],
   "source": [
    "\n",
    "assignment = np.zeros(int(m*(m-1)/2))\n",
    "k = 0\n",
    "indices = {}\n",
    "for i in range(m):\n",
    "    for j in range(m):\n",
    "        if i < j:\n",
    "            indices[k] = (i,j)\n",
    "            norm = np.linalg.norm(Xtrain.detach().numpy()[i,:] - Xtrain.detach().numpy()[j,:], ord = 1)\n",
    "            assignment[k] = norm \n",
    "            k = k+1\n",
    "        \n",
    "# wij.value = assi\n",
    "\n",
    "a = cp.Variable((m,n))\n",
    "lamb = cp.Parameter(nonneg=True)\n",
    "gamma = 1\n",
    "#norm points \n",
    "\n",
    "ws = cp.Parameter(int(m*(m-1)/2), nonneg = True)\n",
    "ws.value =  np.exp((-1)*gamma*assignment)\n",
    "\n",
    "error = cp.norm(a - Xtrain.detach().numpy(), \"fro\")\n",
    "regularization =  0\n",
    "\n",
    "for k in range(int(m*(m-1)/2)):\n",
    "    #print(index)\n",
    "    (i,j) = indices[k]\n",
    "    regularization += ws[k]*cp.norm(a[i,:] - a[j,:], 1)\n",
    "            \n",
    "            \n",
    "obj = cp.Minimize(lamb*error + regularization)\n",
    "prob = cp.Problem(obj)"
   ]
  },
  {
   "cell_type": "code",
   "execution_count": 8,
   "metadata": {},
   "outputs": [],
   "source": [
    "# Construct a trade-off curve of ||Ax-b||^2 vs. ||x||_1\n",
    "sq_penalty = []\n",
    "l1_penalty = []\n",
    "a_values = []\n",
    "lamb_vals = np.logspace(-2, 2, 40)\n",
    "for val in lamb_vals:\n",
    "    lamb.value = val\n",
    "    prob.solve()\n",
    "    # Use expr.value to get the numerical value of\n",
    "    # an expression in the problem.\n",
    "    sq_penalty.append(error.value)\n",
    "    l1_penalty.append(regularization.value)\n",
    "    a_values.append(a.value)\n"
   ]
  },
  {
   "cell_type": "code",
   "execution_count": 9,
   "metadata": {},
   "outputs": [
    {
     "data": {
      "text/plain": [
       "[<matplotlib.lines.Line2D at 0x26e1b2e0d90>]"
      ]
     },
     "execution_count": 9,
     "metadata": {},
     "output_type": "execute_result"
    },
    {
     "data": {
      "image/png": "[encoded data removed]",
      "text/plain": [
       "<Figure size 432x288 with 1 Axes>"
      ]
     },
     "metadata": {
      "needs_background": "light"
     },
     "output_type": "display_data"
    }
   ],
   "source": [
    "a_values_np = np.array(a_values)\n",
    "for a_vals in a_values:\n",
    "    plt.plot(a_vals[:,0], a_vals[:,1], \"*\", color = 'orange')\n",
    "plt.plot(Xtrain[:,0].detach().numpy(), Xtrain[:,1].detach().numpy(), '.')"
   ]
  },
  {
   "cell_type": "code",
   "execution_count": 10,
   "metadata": {},
   "outputs": [
    {
     "data": {
      "text/plain": [
       "[<matplotlib.lines.Line2D at 0x26e1b0d0cd0>]"
      ]
     },
     "execution_count": 10,
     "metadata": {},
     "output_type": "execute_result"
    },
    {
     "data": {
      "image/png": "[encoded data removed]",
      "text/plain": [
       "<Figure size 432x288 with 1 Axes>"
      ]
     },
     "metadata": {
      "needs_background": "light"
     },
     "output_type": "display_data"
    }
   ],
   "source": [
    "for i in range(m):\n",
    "    points = [a_values[k][i] for k in range(len(lamb_vals))]\n",
    "    x = [point[0] for point in points]\n",
    "    y = [point[1] for point in points]\n",
    "    plt.plot(x,y, color =  'grey')\n",
    "plt.plot(Xtrain[:,0].detach().numpy(), Xtrain[:,1].detach().numpy(), 'o', color = 'black')\n",
    "plt.plot(Xtrain[:,0].detach().numpy().mean(), Xtrain[:,1].detach().numpy().mean(), 'o', markersize=10)\n",
    "plt.plot(Xtest[:,0].detach().numpy(), Xtest[:,1].detach().numpy(), 'o', color = 'blue')"
   ]
  },
  {
   "cell_type": "markdown",
   "metadata": {},
   "source": [
    "$$\n",
    "\\begin{aligned}\n",
    "\\min_{\\lambda, \\gamma} \\ & ||\\alpha - X_{test}|| \\\\\n",
    "\\alpha & = \\text{argmin}_{\\alpha^{(k)} \\in \\mathbb{R}^{m}} \\sum_{k = 1}^n ||\\alpha^{(k)} - X_{train}^{(k)}|| + \\lambda \\sum_{i \\leq j} ||\\alpha_i^{(k)} - \\alpha_j^{(k)}||_q\n",
    "\\end{aligned}\n",
    "$$"
   ]
  },
  {
   "cell_type": "code",
   "execution_count": 11,
   "metadata": {},
   "outputs": [
    {
     "data": {
      "image/png": "[encoded data removed]",
      "text/plain": [
       "<Figure size 432x288 with 1 Axes>"
      ]
     },
     "metadata": {
      "needs_background": "light"
     },
     "output_type": "display_data"
    }
   ],
   "source": [
    "plt.plot(lamb_vals, [len(np.unique(a_values[i].round(3),axis = 0)) for i in range(len(lamb_vals))],\".-\")\n",
    "plt.xscale('log')"
   ]
  },
  {
   "cell_type": "code",
   "execution_count": 12,
   "metadata": {},
   "outputs": [],
   "source": [
    "# convert into pytorch layer in one line\n",
    "fit_lr = CvxpyLayer(prob, [lamb, ws], [a])"
   ]
  },
  {
   "cell_type": "code",
   "execution_count": 13,
   "metadata": {},
   "outputs": [],
   "source": [
    "lamb_tch, ws_tch = map(torch.from_numpy, [np.array([1.0]), ws.value])\n",
    "lamb_tch.requires_grad_(True);\n",
    "ws_tch.requires_grad_(True);"
   ]
  },
  {
   "cell_type": "code",
   "execution_count": 14,
   "metadata": {},
   "outputs": [],
   "source": [
    "test = fit_lr(lamb_tch, ws_tch)\n",
    "a_tch,  = fit_lr(lamb_tch, ws_tch)"
   ]
  },
  {
   "cell_type": "code",
   "execution_count": 15,
   "metadata": {},
   "outputs": [
    {
     "name": "stderr",
     "output_type": "stream",
     "text": [
      "C:\\Users\\David\\anaconda3\\envs\\cvxpy\\lib\\site-packages\\diffcp\\cone_program.py:296: UserWarning: Solved/Inaccurate.\n",
      "  warnings.warn(\"Solved/Inaccurate.\")\n"
     ]
    }
   ],
   "source": [
    "# sweep over values of alpha, holding lambda=0, evaluating the gradient along the way\n",
    "test_losses = []\n",
    "grads = []\n",
    "for lamb_val in lamb_vals:\n",
    "    lamb_tch = torch.tensor([lamb_val], requires_grad=True)\n",
    "    lamb_tch.grad = None\n",
    "    a_tch,  = fit_lr(lamb_tch, ws_tch)\n",
    "    test_loss = torch.norm(Xtest - a_tch,p='fro')\n",
    "    test_loss.backward()\n",
    "    test_losses.append(test_loss.item())\n",
    "    grads.append(lamb_tch.grad.item())"
   ]
  },
  {
   "cell_type": "code",
   "execution_count": 16,
   "metadata": {},
   "outputs": [
    {
     "data": {
      "text/plain": [
       "<matplotlib.legend.Legend at 0x26e1a7cedc0>"
      ]
     },
     "execution_count": 16,
     "metadata": {},
     "output_type": "execute_result"
    },
    {
     "data": {
      "image/png": "[encoded data removed]",
      "text/plain": [
       "<Figure size 432x288 with 1 Axes>"
      ]
     },
     "metadata": {
      "needs_background": "light"
     },
     "output_type": "display_data"
    }
   ],
   "source": [
    "plt.semilogx()\n",
    "plt.plot(lamb_vals, test_losses, label='test loss')\n",
    "#plt.plot(lamb_vals, grads, label='analytical gradient')\n",
    "plt.legend()"
   ]
  },
  {
   "cell_type": "code",
   "execution_count": 17,
   "metadata": {},
   "outputs": [],
   "source": [
    "a_tch,  = fit_lr(torch.tensor([1.0]), ws_tch)"
   ]
  },
  {
   "cell_type": "code",
   "execution_count": 18,
   "metadata": {},
   "outputs": [
    {
     "data": {
      "text/plain": [
       "[<matplotlib.lines.Line2D at 0x26e1b22f040>]"
      ]
     },
     "execution_count": 18,
     "metadata": {},
     "output_type": "execute_result"
    },
    {
     "data": {
      "image/png": "[encoded data removed]",
      "text/plain": [
       "<Figure size 432x288 with 1 Axes>"
      ]
     },
     "metadata": {
      "needs_background": "light"
     },
     "output_type": "display_data"
    }
   ],
   "source": [
    "for i in range(m):\n",
    "    points = [a_values[k][i] for k in range(len(lamb_vals))]\n",
    "    x = [point[0] for point in points]\n",
    "    y = [point[1] for point in points]\n",
    "    plt.plot(x,y, color =  'grey')\n",
    "plt.plot(Xtrain[:,0].detach().numpy(), Xtrain[:,1].detach().numpy(), 'o', color = 'black')\n",
    "plt.plot(Xtrain[:,0].detach().numpy().mean(), Xtrain[:,1].detach().numpy().mean(), 'o', markersize=10)\n",
    "plt.plot(Xtest[:,0].detach().numpy(), Xtest[:,1].detach().numpy(), 'o', color = 'blue')\n",
    "plt.plot(a_tch[0,:,0].detach().numpy(), a_tch[0,:,1].detach().numpy(), 'o', markersize=10)"
   ]
  },
  {
   "cell_type": "code",
   "execution_count": 19,
   "metadata": {},
   "outputs": [],
   "source": [
    "params = [lamb_tch]\n",
    "\n",
    "def loss_fn(X):\n",
    "    a_tch,  = fit_lr(lamb_tch, ws_val)\n",
    "    loss = torch.norm(X - a_tch,p='fro')\n",
    "    return loss"
   ]
  },
  {
   "cell_type": "code",
   "execution_count": 20,
   "metadata": {},
   "outputs": [],
   "source": [
    "m = len(Xtrain)"
   ]
  },
  {
   "cell_type": "code",
   "execution_count": 21,
   "metadata": {},
   "outputs": [],
   "source": [
    "import torch.nn as nn\n",
    "import torch.nn.functional as F\n",
    "\n",
    "class Net(nn.Module):\n",
    "    def __init__(self, fit_lr):\n",
    "        super(Net, self).__init__()\n",
    "        self.pdist = nn.functional.pdist\n",
    "        self.Relu = nn.ReLU()\n",
    "        self.gamma = nn.Parameter(torch.tensor([1.0]))\n",
    "        self.lamb_tch = nn.Parameter(torch.tensor([1.0]))\n",
    "#         self.lamb_tch.requires_grad_(True);\n",
    "#         self.ws_tch.requires_grad_(True);    \n",
    "        self.cvx_lr = fit_lr\n",
    "        \n",
    "    # X represents our data\n",
    "    def forward(self, X):\n",
    "\n",
    "        #calculate pairwise distances\n",
    "        norms = self.pdist(X)\n",
    "        gamma_pos = self.Relu(self.gamma)\n",
    "        lamb_tch_pos = self.Relu(self.lamb_tch)\n",
    "        ws_tch = torch.exp(torch.mul(norms, (-1.0)*gamma_pos))\n",
    "        # Use the rectified-linear activation function over x\n",
    "        a_tch = self.cvx_lr(lamb_tch_pos, ws_tch)\n",
    "        \n",
    "        return a_tch[0]\n"
   ]
  },
  {
   "cell_type": "code",
   "execution_count": 22,
   "metadata": {},
   "outputs": [
    {
     "data": {
      "text/plain": [
       "<generator object Module.parameters at 0x0000026E1B2255F0>"
      ]
     },
     "execution_count": 22,
     "metadata": {},
     "output_type": "execute_result"
    }
   ],
   "source": [
    "net = Net(fit_lr)\n",
    "net.parameters()"
   ]
  },
  {
   "cell_type": "code",
   "execution_count": 23,
   "metadata": {},
   "outputs": [
    {
     "name": "stdout",
     "output_type": "stream",
     "text": [
      "7.3300390441769485\n",
      "7.181025120012131\n",
      "7.063709176821096\n",
      "6.970053849217385\n",
      "6.894340846889958\n",
      "6.832451929435977\n",
      "6.781375847242198\n",
      "6.738839638449963\n",
      "6.703137263485095\n",
      "6.6729379067428525\n",
      "6.647216071842007\n",
      "6.625167788518695\n",
      "6.606157009685026\n",
      "6.589679304749151\n",
      "6.575318047266783\n",
      "6.562749040465009\n",
      "6.551691585327201\n",
      "6.541927352847057\n",
      "6.5332694708200325\n",
      "6.525562406867916\n",
      "6.518677446330987\n",
      "6.512506153382011\n",
      "6.506955322207755\n",
      "6.501947140263613\n",
      "6.497413710717861\n",
      "6.493299016563727\n",
      "6.48955355794101\n",
      "6.486135115619023\n",
      "6.483007219113789\n",
      "6.480137847146588\n",
      "6.477496834157544\n",
      "6.475064033051067\n",
      "6.472815064787839\n",
      "6.47073352722599\n",
      "6.468800843207433\n",
      "6.4670025923149135\n",
      "6.465328211721039\n",
      "6.463762242015903\n",
      "6.462297330258115\n",
      "6.460923721262778\n"
     ]
    }
   ],
   "source": [
    "def loss(X,pred):\n",
    "    return torch.norm(X - pred, p='fro')\n",
    "\n",
    "opt = torch.optim.Adam(net.parameters(), lr=1e-2)\n",
    "for _ in range(40):\n",
    "    opt.zero_grad()\n",
    "    l = loss(Xtest, net(Xtrain))\n",
    "    print(l.item())\n",
    "    l.backward()\n",
    "    opt.step()"
   ]
  },
  {
   "cell_type": "code",
   "execution_count": 24,
   "metadata": {},
   "outputs": [
    {
     "data": {
      "text/plain": [
       "[<matplotlib.lines.Line2D at 0x26e1ec4daf0>]"
      ]
     },
     "execution_count": 24,
     "metadata": {},
     "output_type": "execute_result"
    },
    {
     "data": {
      "image/png": "[encoded data removed]",
      "text/plain": [
       "<Figure size 432x288 with 1 Axes>"
      ]
     },
     "metadata": {
      "needs_background": "light"
     },
     "output_type": "display_data"
    }
   ],
   "source": [
    "for i in range(m):\n",
    "    points = [a_values[k][i] for k in range(len(lamb_vals))]\n",
    "    x = [point[0] for point in points]\n",
    "    y = [point[1] for point in points]\n",
    "    plt.plot(x,y, color =  'grey')\n",
    "plt.plot(Xtrain[:,0].detach().numpy(), Xtrain[:,1].detach().numpy(), 'o', color = 'black')\n",
    "plt.plot(Xtrain[:,0].detach().numpy().mean(), Xtrain[:,1].detach().numpy().mean(), 'o', markersize=10)\n",
    "plt.plot(Xtest[:,0].detach().numpy(), Xtest[:,1].detach().numpy(), 'o', color = 'blue')\n",
    "pred = net(Xtrain)\n",
    "plt.plot(pred[0,:,0].detach().numpy(), pred[0,:,1].detach().numpy(), 'o', markersize=10)"
   ]
  },
  {
   "cell_type": "code",
   "execution_count": null,
   "metadata": {},
   "outputs": [],
   "source": [
    "import torch\n",
    "from torch.utils.data import TensorDataset, DataLoader\n",
    "import numpy as np\n",
    "from cvxpylayers.torch import CvxpyLayer\n",
    "\n",
    "torch.set_default_dtype(torch.double)\n",
    "\n",
    "from tqdm.notebook import tqdm\n",
    "\n",
    "\n",
    "def fit(loss, params, X , Xval, batch_size=128, lr=1e-3, epochs=100, verbose=False, print_every=1, callback=None):\n",
    "    \"\"\"\n",
    "\n",
    "    Arguments:\n",
    "        loss: given x and y in batched form, evaluates loss.\n",
    "        params: list of parameters to optimize.\n",
    "        X: input data, torch tensor.\n",
    "       \n",
    "        Xval: input validation data, torch tensor.\n",
    "      \n",
    "    \"\"\"\n",
    "\n",
    "    train_dset = TensorDataset(X, Y)\n",
    "    train_loader = DataLoader(train_dset, batch_size=batch_size, shuffle=True)\n",
    "    opt = torch.optim.Adam(params, lr=lr)\n",
    "\n",
    "    train_losses = []\n",
    "    val_losses = []\n",
    "    for epoch in tqdm(range(epochs)):\n",
    "        if callback is not None:\n",
    "            callback()\n",
    "            \n",
    "        with torch.no_grad():\n",
    "            val_losses.append(loss(Xval, Yval).item())\n",
    "        if verbose and epoch % print_every == 0:\n",
    "            print(\"val loss %03d | %3.5f\" % (epoch + 1, val_losses[-1]))\n",
    "\n",
    "        batch = 1\n",
    "        train_losses.append([])\n",
    "        for Xbatch, Ybatch in train_loader:\n",
    "            opt.zero_grad()\n",
    "            l = loss(Xbatch, Ybatch)\n",
    "            l.backward()\n",
    "            opt.step()\n",
    "            train_losses[-1].append(l.item())\n",
    "            if verbose and epoch % print_every == 0:\n",
    "                print(\"batch %03d / %03d | %3.5f\" %\n",
    "                      (batch, len(train_loader), np.mean(train_losses[-1])))\n",
    "            batch += 1\n",
    "    return val_losses, train_losses"
   ]
  }
 ],
 "metadata": {
  "kernelspec": {
   "display_name": "Python 3",
   "language": "python",
   "name": "python3"
  },
  "language_info": {
   "codemirror_mode": {
    "name": "ipython",
    "version": 3
   },
   "file_extension": ".py",
   "mimetype": "text/x-python",
   "name": "python",
   "nbconvert_exporter": "python",
   "pygments_lexer": "ipython3",
   "version": "3.8.3"
  }
 },
 "nbformat": 4,
 "nbformat_minor": 4
}
