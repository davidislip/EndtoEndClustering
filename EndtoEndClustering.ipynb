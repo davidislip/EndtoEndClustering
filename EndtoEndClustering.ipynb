{
 "cells": [
  {
   "cell_type": "code",
   "execution_count": 43,
   "metadata": {},
   "outputs": [],
   "source": [
    "import cvxpy as cp\n",
    "import matplotlib.pyplot as plt\n",
    "import numpy as np\n",
    "import torch\n",
    "from cvxpylayers.torch import CvxpyLayer\n",
    "torch.set_default_dtype(torch.double)\n",
    "np.set_printoptions(precision=3, suppress=True)\n",
    "from sklearn.datasets import make_blobs\n",
    "from sklearn.model_selection import train_test_split\n",
    "from numpy.random import default_rng\n",
    "from scipy.spatial import distance_matrix\n",
    "\n",
    "rng = default_rng()"
   ]
  },
  {
   "cell_type": "code",
   "execution_count": 44,
   "metadata": {},
   "outputs": [
    {
     "name": "stdout",
     "output_type": "stream",
     "text": [
      "[0.33, 0.33, 0.34]\n"
     ]
    }
   ],
   "source": [
    "torch.manual_seed(0)\n",
    "np.random.seed(0)\n",
    "\n",
    "m = 30\n",
    "p = 0.008\n",
    "std = 0.7\n",
    "\n",
    "outlier = 5\n",
    "means = np.array([[2, 2], [-2, -2], [5, -1]])\n",
    "(K, n) = means.shape\n",
    "\n",
    "probs = rng.random(K)\n",
    "probs = probs/probs.sum()\n",
    "probs = [0.33, 0.33, 0.34]\n",
    "print(probs)\n",
    "\n",
    "groups = rng.choice(np.arange(0, K), size = m, p=probs)\n",
    "\n",
    "means = np.array([[2, 2], [-2, -2], [5, -1]])\n",
    "K = len(means)\n",
    "X_train = []\n",
    "X_test = []\n",
    "for pt in range(len(groups)):\n",
    "    dist_type = groups[pt]\n",
    "    X_train.append(means[dist_type] + std*rng.normal(size = n))\n",
    "    X_test.append(means[dist_type] + std*rng.normal(size = n))\n",
    "\n",
    "X_train = np.array(X_train)\n",
    "X_test = np.array(X_test)"
   ]
  },
  {
   "cell_type": "code",
   "execution_count": 45,
   "metadata": {},
   "outputs": [],
   "source": [
    "def base_model(m,n):\n",
    "    a = cp.Variable((m,n))\n",
    "    \n",
    "    ws = cp.Parameter(int(m*(m-1)/2), nonneg = True)\n",
    "    X_train = cp.Parameter((m,n))\n",
    "\n",
    "    error = cp.norm(a - X_train, \"fro\")\n",
    "    regularization =  0\n",
    "\n",
    "    for k in range(int(m*(m-1)/2)):\n",
    "        #print(index)\n",
    "        (i,j) = indices[k]\n",
    "        regularization += ws[k]*cp.norm(a[i,:] - a[j,:], 1)\n",
    "\n",
    "    obj = cp.Minimize(error + regularization)\n",
    "    prob = cp.Problem(obj)\n",
    "    \n",
    "    return CvxpyLayer(prob, [ws, X_train], [a])\n",
    "\n",
    "opt_layer = base_model(m,n)"
   ]
  },
  {
   "cell_type": "code",
   "execution_count": 46,
   "metadata": {},
   "outputs": [],
   "source": [
    "gamma = 1\n",
    "m = X_train.shape[0]\n",
    "assignment = np.zeros(int(m*(m-1)/2))\n",
    "k = 0\n",
    "indices = {}\n",
    "for i in range(m):\n",
    "    for j in range(m):\n",
    "        if i < j:\n",
    "            indices[k] = (i,j)\n",
    "            norm = np.linalg.norm(X_train[i,:] - X_train[j,:], ord = 1)\n",
    "            assignment[k] = norm \n",
    "            k = k+1\n",
    "ws_tch, X_train_tch, X_test_tch = map(torch.from_numpy, [np.exp((-1)*gamma*assignment), X_train, X_test])\n",
    "X_train_tch.requires_grad_(True);\n",
    "ws_tch.requires_grad_(True);"
   ]
  },
  {
   "cell_type": "code",
   "execution_count": 47,
   "metadata": {},
   "outputs": [],
   "source": [
    "a_tch,  = opt_layer(ws_tch, X_train_tch)"
   ]
  },
  {
   "cell_type": "code",
   "execution_count": 52,
   "metadata": {},
   "outputs": [],
   "source": [
    "def loss_fn(X, a_tch):\n",
    "    loss = torch.norm(X - a_tch,p='fro')\n",
    "    return loss\n",
    "\n",
    "import torch.nn as nn\n",
    "import torch.nn.functional as F\n",
    "\n",
    "class Net(nn.Module):\n",
    "    def __init__(self, fit_lr, loss_fn):\n",
    "        super(Net, self).__init__()\n",
    "        self.pdist = nn.functional.pdist\n",
    "        self.Relu = nn.ReLU()\n",
    "        self.gamma = nn.Parameter(torch.tensor([1.0]))\n",
    "        self.lamb_tch = nn.Parameter(torch.tensor([1.0]))\n",
    "        \n",
    "        self.perf_loss = loss_fn\n",
    "\n",
    "#         self.lamb_tch.requires_grad_(True);\n",
    "#         self.ws_tch.requires_grad_(True);\n",
    "            \n",
    "        self.cvx_lr = fit_lr\n",
    "        \n",
    "    # X represents our data\n",
    "    def forward(self, X):\n",
    "        #calculate pairwise distances\n",
    "        norms = self.pdist(X)\n",
    "        gamma_pos = self.Relu(self.gamma)\n",
    "        lamb_tch_pos = self.Relu(self.lamb_tch)\n",
    "        ws_tch = torch.mul(lamb_tch_pos, torch.exp(torch.mul(norms, (-1.0)*gamma_pos)))\n",
    "        # Use the rectified-linear activation function over x\n",
    "        a_tch = self.cvx_lr(ws_tch, X)\n",
    "        \n",
    "        return a_tch[0]\n",
    "    \n",
    "    #-----------------------------------------------------------------------------------------------\n",
    "    # net_train: Train the e2e neural net\n",
    "    #-----------------------------------------------------------------------------------------------\n",
    "    def net_train(self, train_set, val_set=None, epochs=None, lr=None):\n",
    "        \"\"\"Neural net training module\n",
    "        \n",
    "        Inputs\n",
    "        train_set: SlidingWindow object containing feaatures x, realizations y and performance\n",
    "        realizations y_perf\n",
    "        val_set: SlidingWindow object containing feaatures x, realizations y and performance\n",
    "        realizations y_perf\n",
    "        epochs: Number of training epochs\n",
    "        lr: learning rate\n",
    "        Output\n",
    "        Trained model\n",
    "        (Optional) val_loss: Validation loss\n",
    "        \"\"\"\n",
    "\n",
    "        # Assign number of epochs and learning rate\n",
    "        if epochs is None:\n",
    "            epochs = self.epochs\n",
    "        if lr is None:\n",
    "            lr = self.lr\n",
    "        \n",
    "        # Define the optimizer and its parameters\n",
    "        optimizer = torch.optim.Adam(self.parameters(), lr=lr)\n",
    "\n",
    "        # Number of elements in training set\n",
    "        n_train = len(train_set)\n",
    "\n",
    "        # Train the neural network\n",
    "        for epoch in range(epochs):\n",
    "                \n",
    "            # TRAINING: forward + backward pass\n",
    "            train_loss = 0\n",
    "            optimizer.zero_grad() \n",
    "            for t, (X_prev, X_next) in enumerate(train_set):\n",
    "\n",
    "                # Forward pass: predict and optimize\n",
    "                a_hat = self(X_prev)\n",
    "\n",
    "                # Loss function\n",
    "    \n",
    "                loss = (1/n_train) * self.perf_loss(X_next, a_hat)\n",
    "                print(loss)\n",
    "                # Backward pass: backpropagation\n",
    "                loss.backward()\n",
    "\n",
    "                # Accumulate loss of the fully trained model\n",
    "                train_loss += loss.item()\n",
    "        \n",
    "            # Update parameters\n",
    "            optimizer.step()\n",
    "\n",
    "#             # Ensure that gamma, delta > 0 after taking a descent step\n",
    "#             for name, param in self.named_parameters():\n",
    "#                 if name=='gamma':\n",
    "#                     param.data.clamp_(0.0001)\n",
    "#                 if name=='delta':\n",
    "#                     param.data.clamp_(0.0001)\n",
    "\n",
    "        # Compute and return the validation loss of the model\n",
    "        if val_set is not None:\n",
    "\n",
    "            # Number of elements in validation set\n",
    "            n_val = len(val_set)\n",
    "\n",
    "            val_loss = 0\n",
    "            with torch.no_grad():\n",
    "                for t, (X_prev, X_next) in enumerate(val_set):\n",
    "\n",
    "                    # Predict and optimize\n",
    "                    a_hat = self(X_prev)\n",
    "                \n",
    "                    # Loss function\n",
    "                 \n",
    "                    loss = (1/n_val) * self.perf_loss(z_val, y_perf.squeeze())\n",
    "                  \n",
    "                    # Accumulate loss\n",
    "                    val_loss += loss.item()\n",
    "\n",
    "            return train_loss, val_loss\n"
   ]
  },
  {
   "cell_type": "code",
   "execution_count": 53,
   "metadata": {},
   "outputs": [],
   "source": [
    "net = Net(opt_layer, loss_fn)"
   ]
  },
  {
   "cell_type": "code",
   "execution_count": 54,
   "metadata": {},
   "outputs": [
    {
     "data": {
      "text/plain": [
       "Net(\n",
       "  (Relu): ReLU()\n",
       "  (cvx_lr): CvxpyLayer()\n",
       ")"
      ]
     },
     "execution_count": 54,
     "metadata": {},
     "output_type": "execute_result"
    }
   ],
   "source": [
    "net"
   ]
  },
  {
   "cell_type": "code",
   "execution_count": 64,
   "metadata": {},
   "outputs": [
    {
     "name": "stderr",
     "output_type": "stream",
     "text": [
      "C:\\Users\\David\\anaconda3\\envs\\cvxpy\\lib\\site-packages\\diffcp\\cone_program.py:296: UserWarning: Solved/Inaccurate.\n",
      "  warnings.warn(\"Solved/Inaccurate.\")\n"
     ]
    },
    {
     "name": "stdout",
     "output_type": "stream",
     "text": [
      "tensor(7.2227, grad_fn=<MulBackward0>)\n",
      "tensor(6.9704, grad_fn=<MulBackward0>)\n",
      "tensor(6.7695, grad_fn=<MulBackward0>)\n",
      "tensor(6.6072, grad_fn=<MulBackward0>)\n",
      "tensor(6.4739, grad_fn=<MulBackward0>)\n",
      "tensor(6.3637, grad_fn=<MulBackward0>)\n",
      "tensor(6.2714, grad_fn=<MulBackward0>)\n",
      "tensor(6.1935, grad_fn=<MulBackward0>)\n",
      "tensor(6.1272, grad_fn=<MulBackward0>)\n",
      "tensor(6.0706, grad_fn=<MulBackward0>)\n",
      "tensor(6.0218, grad_fn=<MulBackward0>)\n",
      "tensor(5.9792, grad_fn=<MulBackward0>)\n",
      "tensor(5.9421, grad_fn=<MulBackward0>)\n",
      "tensor(5.9096, grad_fn=<MulBackward0>)\n",
      "tensor(5.8810, grad_fn=<MulBackward0>)\n",
      "tensor(5.8558, grad_fn=<MulBackward0>)\n",
      "tensor(5.8333, grad_fn=<MulBackward0>)\n",
      "tensor(5.8133, grad_fn=<MulBackward0>)\n",
      "tensor(5.7954, grad_fn=<MulBackward0>)\n",
      "tensor(5.7793, grad_fn=<MulBackward0>)\n",
      "tensor(5.7648, grad_fn=<MulBackward0>)\n",
      "tensor(5.7517, grad_fn=<MulBackward0>)\n",
      "tensor(5.7399, grad_fn=<MulBackward0>)\n",
      "tensor(5.7291, grad_fn=<MulBackward0>)\n",
      "tensor(5.7193, grad_fn=<MulBackward0>)\n",
      "tensor(5.7103, grad_fn=<MulBackward0>)\n",
      "tensor(5.7021, grad_fn=<MulBackward0>)\n",
      "tensor(5.6946, grad_fn=<MulBackward0>)\n",
      "tensor(5.6876, grad_fn=<MulBackward0>)\n",
      "tensor(5.6812, grad_fn=<MulBackward0>)\n",
      "tensor(5.6753, grad_fn=<MulBackward0>)\n",
      "tensor(5.6698, grad_fn=<MulBackward0>)\n",
      "tensor(5.6647, grad_fn=<MulBackward0>)\n",
      "tensor(5.6599, grad_fn=<MulBackward0>)\n",
      "tensor(5.6555, grad_fn=<MulBackward0>)\n",
      "tensor(5.6514, grad_fn=<MulBackward0>)\n",
      "tensor(5.6475, grad_fn=<MulBackward0>)\n",
      "tensor(5.6439, grad_fn=<MulBackward0>)\n",
      "tensor(5.6405, grad_fn=<MulBackward0>)\n",
      "tensor(5.6372, grad_fn=<MulBackward0>)\n"
     ]
    }
   ],
   "source": [
    "net.net_train([(X_train_tch, X_test_tch)] , val_set=None, epochs=40, lr=1e-2)"
   ]
  },
  {
   "cell_type": "code",
   "execution_count": 65,
   "metadata": {},
   "outputs": [
    {
     "name": "stderr",
     "output_type": "stream",
     "text": [
      "C:\\Users\\David\\anaconda3\\envs\\cvxpy\\lib\\site-packages\\diffcp\\cone_program.py:296: UserWarning: Solved/Inaccurate.\n",
      "  warnings.warn(\"Solved/Inaccurate.\")\n"
     ]
    },
    {
     "data": {
      "text/plain": [
       "[<matplotlib.lines.Line2D at 0x1385be2ca90>]"
      ]
     },
     "execution_count": 65,
     "metadata": {},
     "output_type": "execute_result"
    },
    {
     "data": {
      "image/png": "[encoded data removed]",
      "text/plain": [
       "<Figure size 432x288 with 1 Axes>"
      ]
     },
     "metadata": {
      "needs_background": "light"
     },
     "output_type": "display_data"
    }
   ],
   "source": [
    "# for i in range(m):\n",
    "#     points = [a_values[k][i] for k in range(len(lamb_vals))]\n",
    "#     x = [point[0] for point in points]\n",
    "#     y = [point[1] for point in points]\n",
    "#     plt.plot(x,y, color =  'grey')\n",
    "plt.plot(X_train[:,0], X_train[:,1], 'o', color = 'black')\n",
    "plt.plot(X_train[:,0].mean(), X_train[:,1].mean(), 'o', markersize=10)\n",
    "plt.plot(X_test[:,0], X_test[:,1], 'o', color = 'blue')\n",
    "pred = net(X_train_tch)\n",
    "plt.plot(pred[:,0].detach().numpy(), pred[:,1].detach().numpy(), 'o', markersize=10)"
   ]
  },
  {
   "cell_type": "code",
   "execution_count": null,
   "metadata": {},
   "outputs": [],
   "source": []
  }
 ],
 "metadata": {
  "kernelspec": {
   "display_name": "Python 3",
   "language": "python",
   "name": "python3"
  },
  "language_info": {
   "codemirror_mode": {
    "name": "ipython",
    "version": 3
   },
   "file_extension": ".py",
   "mimetype": "text/x-python",
   "name": "python",
   "nbconvert_exporter": "python",
   "pygments_lexer": "ipython3",
   "version": "3.8.3"
  }
 },
 "nbformat": 4,
 "nbformat_minor": 4
}
